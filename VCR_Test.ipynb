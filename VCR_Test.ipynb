{
 "metadata": {
  "name": ""
 },
 "nbformat": 3,
 "nbformat_minor": 0,
 "worksheets": [
  {
   "cells": [
    {
     "cell_type": "code",
     "collapsed": false,
     "input": [
      "for i in range (30):\n",
      "    print (i,end=\"_\")"
     ],
     "language": "python",
     "metadata": {},
     "outputs": [
      {
       "output_type": "stream",
       "stream": "stdout",
       "text": [
        "0_1_2_3_4_5_6_7_8_9_10_11_12_13_14_15_16_17_18_19_20_21_22_23_24_25_26_27_28_29_"
       ]
      }
     ],
     "prompt_number": 17
    },
    {
     "cell_type": "code",
     "collapsed": false,
     "input": [
      "x=5\n",
      "while x<10:\n",
      "    print (x,end=\" \")\n",
      "    x+=1\n",
      "print (\"\\nend of while\")\n",
      "print (x)"
     ],
     "language": "python",
     "metadata": {},
     "outputs": [
      {
       "output_type": "stream",
       "stream": "stdout",
       "text": [
        "5 6 7 8 9 \n",
        "end of while\n",
        "10\n"
       ]
      }
     ],
     "prompt_number": 12
    },
    {
     "cell_type": "code",
     "collapsed": false,
     "input": [
      "#python3_tk has to install\n",
      "from turtle import *\n",
      "from time import sleep\n",
      "\n",
      "reset()\n",
      "pensize(3)\n",
      "pencolor(\"blue\")\n",
      "sleep(2)\n",
      "forward(100)\n",
      "sleep(2)\n",
      "left(120)\n",
      "sleep(2)\n",
      "forward(100)\n",
      "sleep(2)\n",
      "left(120)\n",
      "sleep(2)\n",
      "forward(100)\n"
     ],
     "language": "python",
     "metadata": {},
     "outputs": [],
     "prompt_number": 46
    },
    {
     "cell_type": "code",
     "collapsed": false,
     "input": [
      "dir(forward)"
     ],
     "language": "python",
     "metadata": {},
     "outputs": [
      {
       "metadata": {},
       "output_type": "pyout",
       "prompt_number": 44,
       "text": [
        "['__annotations__',\n",
        " '__call__',\n",
        " '__class__',\n",
        " '__closure__',\n",
        " '__code__',\n",
        " '__defaults__',\n",
        " '__delattr__',\n",
        " '__dict__',\n",
        " '__dir__',\n",
        " '__doc__',\n",
        " '__eq__',\n",
        " '__format__',\n",
        " '__ge__',\n",
        " '__get__',\n",
        " '__getattribute__',\n",
        " '__globals__',\n",
        " '__gt__',\n",
        " '__hash__',\n",
        " '__init__',\n",
        " '__kwdefaults__',\n",
        " '__le__',\n",
        " '__lt__',\n",
        " '__module__',\n",
        " '__name__',\n",
        " '__ne__',\n",
        " '__new__',\n",
        " '__qualname__',\n",
        " '__reduce__',\n",
        " '__reduce_ex__',\n",
        " '__repr__',\n",
        " '__setattr__',\n",
        " '__sizeof__',\n",
        " '__str__',\n",
        " '__subclasshook__']"
       ]
      }
     ],
     "prompt_number": 44
    },
    {
     "cell_type": "code",
     "collapsed": false,
     "input": [],
     "language": "python",
     "metadata": {},
     "outputs": []
    }
   ],
   "metadata": {}
  }
 ]
}