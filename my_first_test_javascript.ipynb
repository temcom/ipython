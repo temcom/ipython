{
 "cells": [
  {
   "cell_type": "code",
   "execution_count": 1,
   "metadata": {},
   "outputs": [
    {
     "name": "stdout",
     "output_type": "stream",
     "text": [
      "Hello, World!\n"
     ]
    }
   ],
   "source": [
    "var msg = \"Hello, World!\"\n",
    "console.log(msg)"
   ]
  },
  {
   "cell_type": "code",
   "execution_count": 3,
   "metadata": {},
   "outputs": [
    {
     "name": "stdout",
     "output_type": "stream",
     "text": [
      "Hello World\n"
     ]
    }
   ],
   "source": [
    "(function(){\n",
    "  \"use strict\";\n",
    "  /* Start of your code */\n",
    "  function greetMe(yourName) {\n",
    "    /* alert('Hello ' + yourName); */\n",
    "    console.log('Hello ' + yourName);\n",
    "  }\n",
    "  \n",
    "  greetMe('World');\n",
    "  /* End of your code */\n",
    "})();"
   ]
  },
  {
   "cell_type": "code",
   "execution_count": 4,
   "metadata": {},
   "outputs": [
    {
     "ename": "SyntaxError",
     "evalue": "Identifier 'f' has already been declared",
     "output_type": "error",
     "traceback": [
      "evalmachine.<anonymous>:3",
      "const f = 5;",
      "      ^",
      "",
      "SyntaxError: Identifier 'f' has already been declared",
      "    at new Script (vm.js:79:7)",
      "    at createScript (vm.js:251:10)",
      "    at Object.runInThisContext (vm.js:303:10)",
      "    at run ([eval]:1054:15)",
      "    at onRunRequest ([eval]:888:18)",
      "    at onMessage ([eval]:848:13)",
      "    at process.emit (events.js:182:13)",
      "    at emit (internal/child_process.js:812:12)",
      "    at process._tickCallback (internal/process/next_tick.js:63:19)"
     ]
    }
   ],
   "source": [
    "// THIS WILL CAUSE AN ERROR\n",
    "function f() {};\n",
    "const f = 5;\n",
    "\n",
    "// THIS WILL CAUSE AN ERROR TOO\n",
    "function f() {\n",
    "  const g = 5;\n",
    "  var g;\n",
    "\n",
    "  //statements\n",
    "}"
   ]
  },
  {
   "cell_type": "code",
   "execution_count": 5,
   "metadata": {},
   "outputs": [
    {
     "data": {
      "text/plain": [
       "5"
      ]
     },
     "execution_count": 5,
     "metadata": {},
     "output_type": "execute_result"
    }
   ],
   "source": [
    "parseInt('101', 2) // 5"
   ]
  },
  {
   "cell_type": "code",
   "execution_count": 6,
   "metadata": {},
   "outputs": [
    {
     "name": "stdout",
     "output_type": "stream",
     "text": [
      "Saturn\n",
      "Honda\n",
      "Toyota\n"
     ]
    }
   ],
   "source": [
    "var sales = 'Toyota';\n",
    "\n",
    "function carTypes(name) {\n",
    "  if (name === 'Honda') {\n",
    "    return name;\n",
    "  } else {\n",
    "    return \"Sorry, we don't sell \" + name + \".\";\n",
    "  }\n",
    "}\n",
    "\n",
    "var car = { myCar: 'Saturn', getCar: carTypes('Honda'), special: sales };\n",
    "\n",
    "console.log(car.myCar);   // Saturn\n",
    "console.log(car.getCar);  // Honda\n",
    "console.log(car.special); // Toyota "
   ]
  },
  {
   "cell_type": "code",
   "execution_count": 17,
   "metadata": {},
   "outputs": [
    {
     "name": "stdout",
     "output_type": "stream",
     "text": [
      "7\n",
      "8\n",
      "9\n",
      "10\n"
     ]
    }
   ],
   "source": [
    "x = 6;\n",
    "while (x < 10) {\n",
    "  x++;\n",
    "  console.log(x);\n",
    "}"
   ]
  },
  {
   "cell_type": "code",
   "execution_count": 19,
   "metadata": {},
   "outputs": [
    {
     "name": "stdout",
     "output_type": "stream",
     "text": [
      "1\n",
      "2\n",
      "3\n",
      "4\n",
      "5\n"
     ]
    }
   ],
   "source": [
    "let i = 0;\n",
    "do {\n",
    "  i += 1;\n",
    "  console.log(i);\n",
    "} while (i < 5);"
   ]
  },
  {
   "cell_type": "code",
   "execution_count": 18,
   "metadata": {},
   "outputs": [
    {
     "name": "stdout",
     "output_type": "stream",
     "text": [
      "Walking east one step\n",
      "Walking east one step\n",
      "Walking east one step\n",
      "Walking east one step\n",
      "Walking east one step\n"
     ]
    }
   ],
   "source": [
    "for (let step = 0; step < 5; step++) {\n",
    "  // Runs 5 times, with values of step 0 through 4.\n",
    "  console.log('Walking east one step');\n",
    "}"
   ]
  },
  {
   "cell_type": "code",
   "execution_count": 30,
   "metadata": {},
   "outputs": [
    {
     "name": "stdout",
     "output_type": "stream",
     "text": [
      "1.197857166996989e+100\n"
     ]
    }
   ],
   "source": [
    "const factorial = function fac(n) { return n < 2 ? 1 : n * fac(n - 1) }\n",
    "\n"
   ]
  },
  {
   "cell_type": "code",
   "execution_count": 32,
   "metadata": {},
   "outputs": [],
   "source": [
    "function factorial2(n) {\n",
    "  if ((n === 0) || (n === 1))\n",
    "    return 1;\n",
    "  else\n",
    "    return (n * factorial2(n - 1));\n",
    "}"
   ]
  },
  {
   "cell_type": "code",
   "execution_count": 33,
   "metadata": {},
   "outputs": [
    {
     "name": "stdout",
     "output_type": "stream",
     "text": [
      "1.197857166996989e+100\n",
      "1.197857166996989e+100\n"
     ]
    }
   ],
   "source": [
    "console.log(factorial(70))\n",
    "console.log(factorial2(70))"
   ]
  },
  {
   "cell_type": "code",
   "execution_count": 34,
   "metadata": {},
   "outputs": [
    {
     "data": {
      "text/plain": [
       "5"
      ]
     },
     "execution_count": 34,
     "metadata": {},
     "output_type": "execute_result"
    }
   ],
   "source": [
    "function multiply(a, b) {\n",
    "  b = typeof b !== 'undefined' ?  b : 1;\n",
    "\n",
    "  return a * b;\n",
    "}\n",
    "\n",
    "multiply(5); // 5"
   ]
  },
  {
   "cell_type": "code",
   "execution_count": 35,
   "metadata": {},
   "outputs": [
    {
     "data": {
      "text/plain": [
       "5"
      ]
     },
     "execution_count": 35,
     "metadata": {},
     "output_type": "execute_result"
    }
   ],
   "source": [
    "function multiply(a, b = 1) {\n",
    "  return a * b;\n",
    "}\n",
    "\n",
    "multiply(5); // 5"
   ]
  },
  {
   "cell_type": "code",
   "execution_count": 38,
   "metadata": {},
   "outputs": [
    {
     "name": "stdout",
     "output_type": "stream",
     "text": [
      "0.5\n",
      "true\n",
      "true\n"
     ]
    }
   ],
   "source": [
    "console.log(1 / 2); // 0.5\n",
    "console.log(1 / 2 == 1.0 / 2.0); // this is true\n",
    "console.log(1 / 2 === 1.0 / 2.0); // this is true, Returns true if the operands are equal and of the same type."
   ]
  },
  {
   "cell_type": "code",
   "execution_count": 40,
   "metadata": {},
   "outputs": [
    {
     "name": "stdout",
     "output_type": "stream",
     "text": [
      "a[0][9]= 9\n",
      "a[1][8]= 8\n",
      "a[2][7]= 7\n",
      "a[3][6]= 6\n",
      "a[4][5]= 5\n"
     ]
    }
   ],
   "source": [
    "var x = [0,1,2,3,4,5,6,7,8,9]\n",
    "var a = [x, x, x, x, x];\n",
    "\n",
    "for (var i1 = 0, j1 = 9; i1 <= j1; i1++, j1--)\n",
    "//                                ^\n",
    "  console.log('a[' + i1 + '][' + j1 + ']= ' + a[i1][j1]);\n"
   ]
  },
  {
   "cell_type": "code",
   "execution_count": 42,
   "metadata": {},
   "outputs": [
    {
     "ename": "ReferenceError",
     "evalue": "math is not defined",
     "output_type": "error",
     "traceback": [
      "evalmachine.<anonymous>:1",
      "math.pi;",
      "^",
      "",
      "ReferenceError: math is not defined",
      "    at evalmachine.<anonymous>:1:1",
      "    at Script.runInThisContext (vm.js:96:20)",
      "    at Object.runInThisContext (vm.js:303:38)",
      "    at run ([eval]:1054:15)",
      "    at onRunRequest ([eval]:888:18)",
      "    at onMessage ([eval]:848:13)",
      "    at process.emit (events.js:182:13)",
      "    at emit (internal/child_process.js:812:12)",
      "    at process._tickCallback (internal/process/next_tick.js:63:19)"
     ]
    }
   ],
   "source": [
    "math.pi;"
   ]
  },
  {
   "cell_type": "code",
   "execution_count": 43,
   "metadata": {},
   "outputs": [
    {
     "name": "stdout",
     "output_type": "stream",
     "text": [
      "function\n",
      "string\n",
      "number\n",
      "object\n",
      "object\n",
      "undefined\n"
     ]
    }
   ],
   "source": [
    "var myFun = new Function('5 + 2');\n",
    "var shape = 'round';\n",
    "var size = 1;\n",
    "var foo = ['Apple', 'Mango', 'Orange'];\n",
    "var today = new Date();\n",
    "\n",
    "console.log(typeof myFun);       // returns \"function\"\n",
    "console.log(typeof shape);       // returns \"string\"\n",
    "console.log(typeof size);        // returns \"number\"\n",
    "console.log(typeof foo);         // returns \"object\"\n",
    "console.log(typeof today);       // returns \"object\"\n",
    "console.log(typeof doesntExist); // returns \"undefined\""
   ]
  },
  {
   "cell_type": "code",
   "execution_count": 44,
   "metadata": {},
   "outputs": [
    {
     "data": {
      "text/plain": [
       "true"
      ]
     },
     "execution_count": 44,
     "metadata": {},
     "output_type": "execute_result"
    }
   ],
   "source": [
    "// Arrays\n",
    "var trees = ['redwood', 'bay', 'cedar', 'oak', 'maple'];\n",
    "0 in trees;        // returns true\n",
    "3 in trees;        // returns true\n",
    "6 in trees;        // returns false\n",
    "'bay' in trees;    // returns false (you must specify the index number,\n",
    "                   // not the value at that index)\n",
    "'length' in trees; // returns true (length is an Array property)\n",
    "\n",
    "// built-in objects\n",
    "'PI' in Math;          // returns true\n",
    "var myString = new String('coral');\n",
    "'length' in myString;  // returns true\n",
    "\n",
    "// Custom objects\n",
    "var mycar = { make: 'Honda', model: 'Accord', year: 1998 };\n",
    "'make' in mycar;  // returns true\n",
    "'model' in mycar; // returns true"
   ]
  },
  {
   "cell_type": "code",
   "execution_count": 46,
   "metadata": {},
   "outputs": [
    {
     "name": "stdout",
     "output_type": "stream",
     "text": [
      "Yes, it is Date\n"
     ]
    }
   ],
   "source": [
    "var theDay = new Date(1995, 12, 17);\n",
    "if (theDay instanceof Date) {\n",
    "  // statements to execute\n",
    "    console.log(\"Yes, it is Date\")\n",
    "}"
   ]
  },
  {
   "cell_type": "code",
   "execution_count": 50,
   "metadata": {},
   "outputs": [
    {
     "name": "stdout",
     "output_type": "stream",
     "text": [
      "3.141592653589793\n",
      "0.7071067811865475\n"
     ]
    }
   ],
   "source": [
    "console.log(Math.PI);\n",
    "console.log(Math.sin(Math.PI/4));"
   ]
  },
  {
   "cell_type": "code",
   "execution_count": 58,
   "metadata": {},
   "outputs": [
    {
     "name": "stdout",
     "output_type": "stream",
     "text": [
      "4.4816890703380645e+0\n",
      "4\n",
      "4.4816890703380645\n"
     ]
    }
   ],
   "source": [
    "/*\n",
    "\n",
    "Methods of Math\n",
    "Method\tDescription\n",
    "abs()\tAbsolute value\n",
    "sin(), cos(), tan()\tStandard trigonometric functions; with the argument in radians.\n",
    "asin(), acos(), atan(), atan2()\tInverse trigonometric functions; return values in radians.\n",
    "sinh(), cosh(), tanh()\tHyperbolic functions; argument in hyperbolic angle.\n",
    "asinh(), acosh(), atanh()\tInverse hyperbolic functions; return values in hyperbolic angle.\n",
    "pow(), exp(), expm1(), log10(), log1p(), log2()\n",
    "\n",
    "Exponential and logarithmic functions.\n",
    "floor(), ceil()\tReturns the largest/smallest integer less/greater than or equal to an argument.\n",
    "min(), max()\tReturns the minimum or maximum (respectively) value of a comma separated list of numbers as arguments.\n",
    "random()\tReturns a random number between 0 and 1.\n",
    "round(), fround(), trunc(),\tRounding and truncation functions.\n",
    "sqrt(), cbrt(), hypot()\tSquare root, cube root, Square root of the sum of square arguments.\n",
    "sign()\tThe sign of a number, indicating whether the number is positive, negative or zero.\n",
    "clz32(),\n",
    "imul()\tNumber of leading zero bits in the 32-bit binary representation.\n",
    "The result of the C-like 32-bit multiplication of the two arguments.\n",
    "*/\n",
    "\n",
    "console.log(Math.exp(1.5).toExponential());\n",
    "console.log(Math.exp(1.5).toFixed());\n",
    "console.log(Math.exp(1.5).toPrecision());"
   ]
  },
  {
   "cell_type": "code",
   "execution_count": null,
   "metadata": {},
   "outputs": [],
   "source": []
  }
 ],
 "metadata": {
  "kernelspec": {
   "display_name": "Javascript (Node.js)",
   "language": "javascript",
   "name": "javascript"
  },
  "language_info": {
   "file_extension": ".js",
   "mimetype": "application/javascript",
   "name": "javascript",
   "version": "10.13.0"
  }
 },
 "nbformat": 4,
 "nbformat_minor": 4
}
